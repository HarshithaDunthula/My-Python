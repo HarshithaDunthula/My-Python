{
 "cells": [
  {
   "cell_type": "markdown",
   "metadata": {},
   "source": [
    "1. Write a program that takes as input two opposite corners of a rectangle: the lower left-hand corner (x1,y1) and the upper right-hand corner (x2,y2). Finally, the user is prompted for the coordinates of a third point (x,y). The program should print Boolean value True or False based on whether the point (x,y) lies within the rectangle."
   ]
  },
  {
   "cell_type": "code",
   "execution_count": 6,
   "metadata": {},
   "outputs": [
    {
     "name": "stdout",
     "output_type": "stream",
     "text": [
      "Enter x1: 1\n",
      "Enter y1: 3\n",
      "Enter x2: 10\n",
      "Enter y2: 6\n",
      "Enter x: 4\n",
      "Enter y: 4\n",
      "True\n"
     ]
    }
   ],
   "source": [
    "x1 = int(input(\"Enter x1: \"))\n",
    "y1 = int(input(\"Enter y1: \"))\n",
    "x2 = int(input(\"Enter x2: \"))\n",
    "y2 = int(input(\"Enter y2: \"))\n",
    "x = int(input(\"Enter x: \"))\n",
    "y = int(input(\"Enter y: \"))\n",
    "if( x2 >= x or x1 <=x ) and (y2>= y and y1<=y):\n",
    "    print(True)\n",
    "else:\n",
    "    print(False)"
   ]
  },
  {
   "cell_type": "code",
   "execution_count": 7,
   "metadata": {},
   "outputs": [
    {
     "name": "stdout",
     "output_type": "stream",
     "text": [
      "Enter x1: 1\n",
      "Enter y1: 3\n",
      "Enter x2: 10\n",
      "Enter y2: 6\n",
      "Enter x: 4\n",
      "Enter y: 2\n",
      "False\n"
     ]
    }
   ],
   "source": [
    "x1 = int(input(\"Enter x1: \"))\n",
    "y1 = int(input(\"Enter y1: \"))\n",
    "x2 = int(input(\"Enter x2: \"))\n",
    "y2 = int(input(\"Enter y2: \"))\n",
    "x = int(input(\"Enter x: \"))\n",
    "y = int(input(\"Enter y: \"))\n",
    "if( x2 >= x or x1 <=x ) and (y2>= y and y1<=y):\n",
    "    print(True)\n",
    "else:\n",
    "    print(False)"
   ]
  },
  {
   "cell_type": "markdown",
   "metadata": {},
   "source": [
    "2. Write a program that prinnts all the composers in the list whose name has at least 10 characters."
   ]
  },
  {
   "cell_type": "code",
   "execution_count": 2,
   "metadata": {},
   "outputs": [
    {
     "name": "stdout",
     "output_type": "stream",
     "text": [
      "Stockhausen\n",
      "Stravinsky\n"
     ]
    }
   ],
   "source": [
    "composers1 = ['Rzewski', 'Ruggles', 'Carter', 'Stockhausen', 'Stravinsky']\n",
    "for i in composers1:\n",
    "    if(len(i) >= 10):\n",
    "        print(i)"
   ]
  },
  {
   "cell_type": "markdown",
   "metadata": {},
   "source": [
    "3. Write a program that prints all the composers in the list that do not have a double name."
   ]
  },
  {
   "cell_type": "code",
   "execution_count": 4,
   "metadata": {},
   "outputs": [
    {
     "name": "stdout",
     "output_type": "stream",
     "text": [
      "Antheil\n",
      "Elgar\n",
      "Chadwick\n",
      "Parker\n"
     ]
    }
   ],
   "source": [
    "composers2 = ['Antheil', 'Elgar', 'Saint-Saens', 'Chadwick', 'Coleridge-Taylor', 'Parker', 'Castelnuovo-Tedesco']\n",
    "for i in composers2:\n",
    "    if (('-' or ' ') not in i):\n",
    "        print(i)"
   ]
  },
  {
   "cell_type": "markdown",
   "metadata": {},
   "source": [
    "4. Write a function pig() that takes a word (i.e., a string) as input and returns its pig-Latin form. Your function should still work if the input word contains upper case characters. Your output should always be lower case however."
   ]
  },
  {
   "cell_type": "code",
   "execution_count": 7,
   "metadata": {},
   "outputs": [
    {
     "name": "stdout",
     "output_type": "stream",
     "text": [
      "appyhay\n",
      "enterway\n"
     ]
    }
   ],
   "source": [
    "def pig(name):\n",
    "    if(name[0].lower() not in ['a','e','i','o','u']):\n",
    "        print(name[1:].lower() + name[0].lower() + 'ay')\n",
    "    else:\n",
    "        print(name.lower() + 'way')\n",
    "pig('happy')\n",
    "pig('Enter')"
   ]
  },
  {
   "cell_type": "markdown",
   "metadata": {},
   "source": [
    "5. Function date() should return the complete date (as a string)  using 3-character abbreviations for the weekday and month and using the format shown below"
   ]
  },
  {
   "cell_type": "code",
   "execution_count": 14,
   "metadata": {},
   "outputs": [
    {
     "name": "stdout",
     "output_type": "stream",
     "text": [
      "Tue, Jan 25, 2020\n"
     ]
    }
   ],
   "source": [
    "def date(day,  month, date, year):\n",
    "    print(day[0:3]+\", \"+month[0:3] + \" \" + str(date) + \", \"+ str(year))\n",
    "date('Tuesday','January',25,2020)"
   ]
  },
  {
   "cell_type": "markdown",
   "metadata": {},
   "source": [
    "6. Write a function called electionResults() that takes 2 lists as parameters. The first list contains the names of political parties, in a given order; the second contains, in the same order, the vote total each party received in a local election. Your function should print the name of each party followed by the word “Party”, in a column 30 characters wide; the number of votes each received in a column 10 characters wide; and the percentage of the vote each received in a column 10 characters wide, rounded to 2 decimal places, followed by the percent sign ‘%’."
   ]
  },
  {
   "cell_type": "code",
   "execution_count": 16,
   "metadata": {},
   "outputs": [
    {
     "name": "stdout",
     "output_type": "stream",
     "text": [
      "Sensible Party                29412     49.98%    \n",
      "Silly Party                   29397     49.96%    \n",
      "Very Silly Party              37        0.06%     \n"
     ]
    }
   ],
   "source": [
    "def electionResults(parties, votes):\n",
    "    partyNames = []\n",
    "    votesNew = []\n",
    "    percentageOfVotes = []\n",
    "    for a in parties:\n",
    "        x = a + \" Party\"\n",
    "        p = x + (30 - len(x)) * \" \"\n",
    "        partyNames.append(p)\n",
    "    for b in votes:\n",
    "        y = str(b) + (10 - len(str(b))) * \" \"\n",
    "        votesNew.append(y)\n",
    "        q = round((b/sum(votes))*100,2)\n",
    "        z = str(q) + '%' + (9 - len(str(q))) * \" \"\n",
    "        percentageOfVotes.append(z)\n",
    "    for c in range(len(partyNames)):\n",
    "        print(partyNames[c] + votesNew[c] + percentageOfVotes[c])\n",
    "\n",
    "electionResults(['Sensible', 'Silly', 'Very Silly'], [29412, 29397, 37])"
   ]
  },
  {
   "cell_type": "markdown",
   "metadata": {},
   "source": [
    "7. Write a function called countWord(). It takes 2 parameters: The name of a text file (e.g. gettysburg.txt) and a word to be searched within that file. Your code should return the number of times the given word appears in the file."
   ]
  },
  {
   "cell_type": "code",
   "execution_count": 5,
   "metadata": {},
   "outputs": [
    {
     "name": "stdout",
     "output_type": "stream",
     "text": [
      "['Four score and seven years ago our fathers brought forth on this continent a\\n', 'new nation, conceived in liberty, and dedicated to the proposition that all\\n', 'men are created equal.\\n', '\\n', 'Now we are engaged in a great civil war, testing whether that nation, or any\\n', 'nation so conceived and so dedicated, can long endure. We are met on a great\\n', 'battle-field of that war. We have come to dedicate a portion of that field,\\n', 'as a final resting place for those who here gave their lives that that nation\\n', 'might live. It is altogether fitting and proper that we should do this.\\n', '\\n', 'But, in a larger sense, we can not dedicate, we can not consecrate, we can\\n', 'not hallow this ground. The brave men, living and dead, who struggled here,\\n', 'have consecrated it, far above our poor power to add or detract. The world\\n', 'will little note, nor long remember what we say here, but it can never forget\\n', 'what they did here. It is for us the living, rather, to be dedicated here to\\n', 'the unfinished work which they who fought here have thus far so nobly advanced.\\n', 'It is rather for us to be here dedicated to the great task remaining before\\n', 'usâ€”that from these honored dead we take increased devotion to that cause for\\n', 'which they gave the last full measure of devotionâ€”that we here highly resolve\\n', 'that these dead shall not have died in vainâ€”that this nation, under God, shall\\n', 'have a new birth of freedomâ€”and that government of the people, by the people,\\n', 'for the people, shall not perish from the earth.']\n",
      "3\n"
     ]
    }
   ],
   "source": [
    "def countWord(file,word):\n",
    "    with open (file, 'r') as f:\n",
    "        lines = f.readlines()\n",
    "    words = []\n",
    "    for line in lines:\n",
    "        for w in (line.replace('\\n','').split(\" \")):\n",
    "            words.append(w.replace(',',''))\n",
    "    print(words.count(word))\n",
    "countWord(\"gettysburg.txt\", \"people\")"
   ]
  },
  {
   "cell_type": "markdown",
   "metadata": {},
   "source": [
    "8. File bloodtype1.txt records blood-types of patients (A, B, AB, O or OO) at a clinic. Write a function bldcount() that reads the file with name name and reports (i.e., prints) how many patients there are in each bloodtype."
   ]
  },
  {
   "cell_type": "code",
   "execution_count": 9,
   "metadata": {},
   "outputs": [
    {
     "name": "stdout",
     "output_type": "stream",
     "text": [
      "There are 15 patients of blood type A\n",
      "There is one patient of blood type B\n",
      "There are 13 patients of blood type AB\n",
      "There are 15 patients of blood type O\n",
      "There are no patients of blood type OO\n"
     ]
    }
   ],
   "source": [
    "def bldcount(file):\n",
    "    groups = []\n",
    "    with open(file,'r') as f:\n",
    "        for i in f.readlines():\n",
    "            for j in (i.split(' ')):\n",
    "                groups.append(j)\n",
    "    types = ['A','B','AB','O','OO']\n",
    "    for type in types:\n",
    "        if(groups.count(type) == 1):\n",
    "            print(\"There is one patient of blood type\",type)\n",
    "        elif(groups.count(type) == 0):\n",
    "            print(\"There are no patients of blood type\",type)\n",
    "        else:\n",
    "            print(\"There are\", groups.count(type),\"patients of blood type\", type)\n",
    "bldcount(\"bloodtype1.txt\")"
   ]
  },
  {
   "cell_type": "markdown",
   "metadata": {},
   "source": [
    "9. Write code that opens the file logfile.txt in the current directory and appends the following line of text: “Processing complete, ending program normally.”"
   ]
  },
  {
   "cell_type": "code",
   "execution_count": 14,
   "metadata": {},
   "outputs": [],
   "source": [
    "with open('logfile.txt','a') as f:\n",
    "    f.write(\"\\nProcessing complete, ending program normally.\\n\")"
   ]
  },
  {
   "cell_type": "markdown",
   "metadata": {},
   "source": [
    "10. You have a file quotes.txt containing quotes, one per line, on security. Write a function quote() that takes a piece of text (i.e., a string) as input and prints any quote that contains that piece of text."
   ]
  },
  {
   "cell_type": "code",
   "execution_count": 19,
   "metadata": {},
   "outputs": [
    {
     "name": "stdout",
     "output_type": "stream",
     "text": [
      "'Who will watch the watchmen.' Juvenal\n",
      "\n",
      "'Anyone who considers arithmetical methods of producing random digits is, of course, in a state of sin.' John Von Neumann\n",
      "\n",
      "'The price of freedom is eternal vigilance.' Thomas Jefferson\n",
      "\n",
      "'Anyone who considers arithmetical methods of producing random digits is, of course, in a state of sin.' John Von Neumann\n",
      "\n",
      "'And so it often happens that an apparently ingenious idea is in fact a weakness which the scientific cryptographer seizes on for his solution.' Herbert Yardley\n"
     ]
    }
   ],
   "source": [
    "def quote(word):\n",
    "    with open(\"quotes.txt\",'r') as f:\n",
    "        for i in f.readlines():\n",
    "            if( word in i.replace('\\n','')):\n",
    "                print(i)\n",
    "quote('watch')\n",
    "quote('who')\n",
    "quote('is')"
   ]
  },
  {
   "cell_type": "markdown",
   "metadata": {},
   "source": [
    "11. Write a function freq() that uses the statistics in file last.txt to compute and return the approximate number of  people in the US having your last name. You can assume that the current US population is roughly 300,000,000 (= 3*10**8)."
   ]
  },
  {
   "cell_type": "code",
   "execution_count": 8,
   "metadata": {},
   "outputs": [
    {
     "name": "stdout",
     "output_type": "stream",
     "text": [
      "264255000.0\n"
     ]
    }
   ],
   "source": [
    "def freq(lname):\n",
    "    with open('last.txt','r') as f:\n",
    "        for i in f.readlines():\n",
    "            if(lname.upper() == i.split()[0]):\n",
    "                print(float(i.split()[1]) * (3 * (10**8)))\n",
    "freq('Smith')\n",
    "freq('Perkovic')"
   ]
  },
  {
   "cell_type": "markdown",
   "metadata": {},
   "source": [
    "12. Write a function curconv() that takes as input:\n",
    "\n",
    "a. a currency represented using a string (e.g., 'JPY' for the Japanese Yen or 'EUR' for the Euro)<br>\n",
    "b. an amount\n",
    "\n",
    "and then converts and returns the amount in US dollars.\n"
   ]
  },
  {
   "cell_type": "code",
   "execution_count": 11,
   "metadata": {},
   "outputs": [
    {
     "name": "stdout",
     "output_type": "stream",
     "text": [
      "122.96544\n",
      "1.241401\n"
     ]
    }
   ],
   "source": [
    "def curconv(currency, amount):\n",
    "    with open('currencies.txt','r') as f:\n",
    "        for i in f.readlines():\n",
    "            for j in i.split():\n",
    "                if( j == currency):\n",
    "                    print(amount * float(i.split()[1]))\n",
    "curconv('EUR', 100)\n",
    "curconv('JPY', 100)"
   ]
  },
  {
   "cell_type": "markdown",
   "metadata": {},
   "source": [
    "13. Each of the following will cause an exception (an error). Identify what type of exception each will cause."
   ]
  },
  {
   "cell_type": "markdown",
   "metadata": {},
   "source": [
    "Trying to add incompatible variables, as in adding 6 + ‘a’<br>\n",
    "Type Error \n",
    "\n",
    "Referring to the 12th item of a list that has only 10 items<br>\n",
    "Index Error\n",
    "\n",
    "Using a value that is out of range for a function’s input, such as calling math.sqrt(-1.0)<br> \n",
    "Value Error\n",
    "\n",
    "Using an undeclared variable, such as print(x) when x has not been defined<br> \n",
    "Name Error\n",
    "\n",
    "Trying to open a file that does not exist, such as mistyping the file name or looking in the wrong directory.<br> \n",
    "File Not Found Error"
   ]
  },
  {
   "cell_type": "markdown",
   "metadata": {},
   "source": [
    "14.Write a function called clean() that takes the name of a text file. It reads the text file and breaks the text into words, removes all the words that are listed in another file stop.txt, and produces a new file, words.txt, with the remaining words in the file listed one per line in lower-case."
   ]
  },
  {
   "cell_type": "code",
   "execution_count": 42,
   "metadata": {},
   "outputs": [
    {
     "name": "stdout",
     "output_type": "stream",
     "text": [
      "A\n",
      "president\n",
      "more\n",
      "any\n",
      "defined\n",
      "oratory\n",
      "skills\n",
      "given\n",
      "plenty\n",
      "powerful\n",
      "era-defining\n",
      "speeches\n",
      "years\n",
      "propelled\n",
      "public\n",
      "eye\n",
      "2004\n",
      "DNC\n",
      "final\n",
      "address\n",
      "2017.\n",
      "president,\n",
      "other,\n",
      "skills,\n",
      "powerful,\n",
      "years,\n",
      "DNC,\n",
      "2017\n",
      "But\n",
      "speech\n",
      "Selma\n",
      "something\n",
      "special.\n",
      "special\n",
      "It\n",
      "reflected\n",
      "complicated\n",
      "history\n",
      "race\n",
      "country\n",
      "expressed\n",
      "profound\n",
      "hope\n",
      "future.\n",
      "future\n",
      "first\n",
      "black\n",
      "United\n",
      "States\n",
      "given.\n",
      "\n"
     ]
    }
   ],
   "source": [
    "def clean(file):\n",
    "    words = []\n",
    "    new_words = []\n",
    "    with open(file,'r') as f1:\n",
    "        for i in f1.readlines():\n",
    "            for k in [',','.','\\n',':',';','!','?']:\n",
    "                l = i.replace(k,'')\n",
    "                for j in l.split():\n",
    "                    #print(1)\n",
    "                    if j not in words:\n",
    "                        words.append(j)\n",
    "    with open('stop.txt','r') as f2:\n",
    "        for a in f2.readlines():\n",
    "            for b in a.split():\n",
    "                if b in words:\n",
    "                    words.remove(b)\n",
    "    with open('words.txt','w') as f3:\n",
    "        for x in words:\n",
    "            f3.write(x)\n",
    "            f3.write('\\n')\n",
    "    with open('words.txt','r') as f4:\n",
    "        print(f4.read())\n",
    "clean('speech.txt')"
   ]
  },
  {
   "cell_type": "markdown",
   "metadata": {},
   "source": [
    "15. Write function quote() that takes as input the name of a file (as a string) and an index i (as an integer). The file will contain quotes, one per line. The function should open the file, read the file, close the file, and return the i-th quote (i.e. the i-th line in the file), assuming that the quote numbering starts at 0. Test your solution on file Wilde_Quotes.txt."
   ]
  },
  {
   "cell_type": "code",
   "execution_count": 47,
   "metadata": {},
   "outputs": [
    {
     "name": "stdout",
     "output_type": "stream",
     "text": [
      "At twilight, nature is not without loveliness, though perhaps its chief use is to illustrate quotations from the poets.\n",
      "\n",
      "A little sincerity is a dangerous thing, and a great deal of it is absolutely fatal.\n",
      "\n",
      "Patriotism is the virtue of the vicious. \n",
      "\n"
     ]
    }
   ],
   "source": [
    "def quote(file, index):\n",
    "    with open(file,'r') as f:\n",
    "        lines = f.readlines()\n",
    "        print(lines[index])\n",
    "quote('Wilde_Quotes.txt',5)\n",
    "quote('Wilde_Quotes.txt',0)\n",
    "quote('Wilde_Quotes.txt',23)"
   ]
  }
 ],
 "metadata": {
  "kernelspec": {
   "display_name": "Python 3",
   "language": "python",
   "name": "python3"
  },
  "language_info": {
   "codemirror_mode": {
    "name": "ipython",
    "version": 3
   },
   "file_extension": ".py",
   "mimetype": "text/x-python",
   "name": "python",
   "nbconvert_exporter": "python",
   "pygments_lexer": "ipython3",
   "version": "3.7.4"
  }
 },
 "nbformat": 4,
 "nbformat_minor": 2
}
